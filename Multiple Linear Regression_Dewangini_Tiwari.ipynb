{
 "cells": [
  {
   "cell_type": "markdown",
   "id": "610883cf",
   "metadata": {},
   "source": [
    "# Multiple Linear Regression\n",
    "importing the libraries\n"
   ]
  },
  {
   "cell_type": "code",
   "execution_count": 1,
   "id": "6cdeed97",
   "metadata": {},
   "outputs": [],
   "source": [
    "import numpy as np\n",
    "import pandas as pd"
   ]
  },
  {
   "cell_type": "code",
   "execution_count": 2,
   "id": "97316218",
   "metadata": {},
   "outputs": [
    {
     "data": {
      "text/html": [
       "<div>\n",
       "<style scoped>\n",
       "    .dataframe tbody tr th:only-of-type {\n",
       "        vertical-align: middle;\n",
       "    }\n",
       "\n",
       "    .dataframe tbody tr th {\n",
       "        vertical-align: top;\n",
       "    }\n",
       "\n",
       "    .dataframe thead th {\n",
       "        text-align: right;\n",
       "    }\n",
       "</style>\n",
       "<table border=\"1\" class=\"dataframe\">\n",
       "  <thead>\n",
       "    <tr style=\"text-align: right;\">\n",
       "      <th></th>\n",
       "      <th>Hours_studied</th>\n",
       "      <th>Hours_slept</th>\n",
       "      <th>iQ</th>\n",
       "    </tr>\n",
       "  </thead>\n",
       "  <tbody>\n",
       "    <tr>\n",
       "      <th>0</th>\n",
       "      <td>2.161059</td>\n",
       "      <td>7.918699</td>\n",
       "      <td>5.462386</td>\n",
       "    </tr>\n",
       "    <tr>\n",
       "      <th>1</th>\n",
       "      <td>2.158807</td>\n",
       "      <td>0.722140</td>\n",
       "      <td>7.855455</td>\n",
       "    </tr>\n",
       "  </tbody>\n",
       "</table>\n",
       "</div>"
      ],
      "text/plain": [
       "   Hours_studied  Hours_slept        iQ\n",
       "0       2.161059     7.918699  5.462386\n",
       "1       2.158807     0.722140  7.855455"
      ]
     },
     "execution_count": 2,
     "metadata": {},
     "output_type": "execute_result"
    }
   ],
   "source": [
    "from numpy.random import rand\n",
    "\n",
    "df  = pd.DataFrame(rand( 50 , 3)*10, columns = 'Hours_studied Hours_slept iQ '.split())\n",
    "df.head(2)"
   ]
  },
  {
   "cell_type": "code",
   "execution_count": 3,
   "id": "d7202366",
   "metadata": {},
   "outputs": [
    {
     "data": {
      "text/html": [
       "<div>\n",
       "<style scoped>\n",
       "    .dataframe tbody tr th:only-of-type {\n",
       "        vertical-align: middle;\n",
       "    }\n",
       "\n",
       "    .dataframe tbody tr th {\n",
       "        vertical-align: top;\n",
       "    }\n",
       "\n",
       "    .dataframe thead th {\n",
       "        text-align: right;\n",
       "    }\n",
       "</style>\n",
       "<table border=\"1\" class=\"dataframe\">\n",
       "  <thead>\n",
       "    <tr style=\"text-align: right;\">\n",
       "      <th></th>\n",
       "      <th>Hours_studied</th>\n",
       "      <th>Hours_slept</th>\n",
       "      <th>iQ</th>\n",
       "      <th>Location</th>\n",
       "    </tr>\n",
       "  </thead>\n",
       "  <tbody>\n",
       "    <tr>\n",
       "      <th>0</th>\n",
       "      <td>2.161059</td>\n",
       "      <td>7.918699</td>\n",
       "      <td>5.462386</td>\n",
       "      <td>New Delhi</td>\n",
       "    </tr>\n",
       "    <tr>\n",
       "      <th>1</th>\n",
       "      <td>2.158807</td>\n",
       "      <td>0.722140</td>\n",
       "      <td>7.855455</td>\n",
       "      <td>New Delhi</td>\n",
       "    </tr>\n",
       "    <tr>\n",
       "      <th>2</th>\n",
       "      <td>2.126487</td>\n",
       "      <td>0.586581</td>\n",
       "      <td>8.998022</td>\n",
       "      <td>Pune</td>\n",
       "    </tr>\n",
       "    <tr>\n",
       "      <th>3</th>\n",
       "      <td>0.527127</td>\n",
       "      <td>2.202517</td>\n",
       "      <td>9.443748</td>\n",
       "      <td>New Delhi</td>\n",
       "    </tr>\n",
       "    <tr>\n",
       "      <th>4</th>\n",
       "      <td>7.113369</td>\n",
       "      <td>1.058224</td>\n",
       "      <td>2.036905</td>\n",
       "      <td>Bangalore</td>\n",
       "    </tr>\n",
       "  </tbody>\n",
       "</table>\n",
       "</div>"
      ],
      "text/plain": [
       "   Hours_studied  Hours_slept        iQ   Location\n",
       "0       2.161059     7.918699  5.462386  New Delhi\n",
       "1       2.158807     0.722140  7.855455  New Delhi\n",
       "2       2.126487     0.586581  8.998022       Pune\n",
       "3       0.527127     2.202517  9.443748  New Delhi\n",
       "4       7.113369     1.058224  2.036905  Bangalore"
      ]
     },
     "execution_count": 3,
     "metadata": {},
     "output_type": "execute_result"
    }
   ],
   "source": [
    "from random import choice\n",
    "\n",
    "location = []\n",
    "for i in range(50):\n",
    "    \n",
    "    location.append(choice([\"New Delhi\" , \"Pune\" , \"Bangalore\"]))\n",
    " \n",
    "\n",
    "df['Location'] = location\n",
    "\n",
    "df.head()"
   ]
  },
  {
   "cell_type": "code",
   "execution_count": 4,
   "id": "8f085c59",
   "metadata": {},
   "outputs": [],
   "source": [
    "df['Marks'] = (1.73 + (3.34*df['Hours_studied'])\n",
    "                    + (2.45*df['Hours_slept'])\n",
    "                    + (1.83*df['iQ']  ))\n",
    "df['Marks'] =  df['Marks'] +np.random.rand(50)*20\n",
    "               \n",
    "df.to_csv('Students.csv',index=False)"
   ]
  },
  {
   "cell_type": "code",
   "execution_count": 5,
   "id": "61d6295d",
   "metadata": {},
   "outputs": [
    {
     "data": {
      "text/html": [
       "<div>\n",
       "<style scoped>\n",
       "    .dataframe tbody tr th:only-of-type {\n",
       "        vertical-align: middle;\n",
       "    }\n",
       "\n",
       "    .dataframe tbody tr th {\n",
       "        vertical-align: top;\n",
       "    }\n",
       "\n",
       "    .dataframe thead th {\n",
       "        text-align: right;\n",
       "    }\n",
       "</style>\n",
       "<table border=\"1\" class=\"dataframe\">\n",
       "  <thead>\n",
       "    <tr style=\"text-align: right;\">\n",
       "      <th></th>\n",
       "      <th>Hours_studied</th>\n",
       "      <th>Hours_slept</th>\n",
       "      <th>iQ</th>\n",
       "      <th>Location</th>\n",
       "      <th>Marks</th>\n",
       "    </tr>\n",
       "  </thead>\n",
       "  <tbody>\n",
       "    <tr>\n",
       "      <th>0</th>\n",
       "      <td>2.161059</td>\n",
       "      <td>7.918699</td>\n",
       "      <td>5.462386</td>\n",
       "      <td>New Delhi</td>\n",
       "      <td>43.007101</td>\n",
       "    </tr>\n",
       "    <tr>\n",
       "      <th>1</th>\n",
       "      <td>2.158807</td>\n",
       "      <td>0.722140</td>\n",
       "      <td>7.855455</td>\n",
       "      <td>New Delhi</td>\n",
       "      <td>33.709174</td>\n",
       "    </tr>\n",
       "    <tr>\n",
       "      <th>2</th>\n",
       "      <td>2.126487</td>\n",
       "      <td>0.586581</td>\n",
       "      <td>8.998022</td>\n",
       "      <td>Pune</td>\n",
       "      <td>35.551047</td>\n",
       "    </tr>\n",
       "    <tr>\n",
       "      <th>3</th>\n",
       "      <td>0.527127</td>\n",
       "      <td>2.202517</td>\n",
       "      <td>9.443748</td>\n",
       "      <td>New Delhi</td>\n",
       "      <td>34.227671</td>\n",
       "    </tr>\n",
       "    <tr>\n",
       "      <th>4</th>\n",
       "      <td>7.113369</td>\n",
       "      <td>1.058224</td>\n",
       "      <td>2.036905</td>\n",
       "      <td>Bangalore</td>\n",
       "      <td>43.232248</td>\n",
       "    </tr>\n",
       "  </tbody>\n",
       "</table>\n",
       "</div>"
      ],
      "text/plain": [
       "   Hours_studied  Hours_slept        iQ   Location      Marks\n",
       "0       2.161059     7.918699  5.462386  New Delhi  43.007101\n",
       "1       2.158807     0.722140  7.855455  New Delhi  33.709174\n",
       "2       2.126487     0.586581  8.998022       Pune  35.551047\n",
       "3       0.527127     2.202517  9.443748  New Delhi  34.227671\n",
       "4       7.113369     1.058224  2.036905  Bangalore  43.232248"
      ]
     },
     "execution_count": 5,
     "metadata": {},
     "output_type": "execute_result"
    }
   ],
   "source": [
    "df.head()"
   ]
  },
  {
   "cell_type": "markdown",
   "id": "f95789a1",
   "metadata": {},
   "source": [
    "# Importing the dataset\n"
   ]
  },
  {
   "cell_type": "code",
   "execution_count": 6,
   "id": "25116bc8",
   "metadata": {},
   "outputs": [
    {
     "name": "stdout",
     "output_type": "stream",
     "text": [
      "[[2.161058784766259 7.918698547228173 5.462385633638075 'New Delhi']\n",
      " [2.158807388664025 0.7221399225381375 7.855455209448716 'New Delhi']\n",
      " [2.1264870502255957 0.5865806923876571 8.998021789917015 'Pune']\n",
      " [0.5271267776251687 2.2025167140403914 9.443748027419748 'New Delhi']\n",
      " [7.113368581267504 1.0582243289766249 2.0369054122351877 'Bangalore']\n",
      " [6.940097418083119 4.600861683299918 1.9961935391633967 'Pune']\n",
      " [7.814017905961002 8.52965812205327 9.705109154835482 'Pune']\n",
      " [1.6754380849979431 3.462071812828068 7.14454749860522 'New Delhi']\n",
      " [4.883797719250627 8.731913289209986 9.284375518909878 'New Delhi']\n",
      " [9.50243876574088 7.190438863289935 3.04014990582977 'Pune']\n",
      " [5.372371059533836 9.146591263877369 0.3798372770208535 'Bangalore']\n",
      " [5.016270516137874 2.3832923277039098 7.67747506876416 'New Delhi']\n",
      " [2.445017076555347 7.33616424011686 9.725084334411092 'New Delhi']\n",
      " [5.806738370795172 7.536132773937631 7.60896257796413 'Bangalore']\n",
      " [0.3420210980365001 3.6008140679833445 0.2956352739584655 'Bangalore']\n",
      " [7.135329599687235 5.281361928309007 5.3688215398474295 'New Delhi']\n",
      " [4.968040375154285 9.814076434006209 0.6482899906974038 'Pune']\n",
      " [9.9934132674433 0.1769469963371162 8.908210490472486 'New Delhi']\n",
      " [4.442397398051484 7.690024102348723 9.21022023796746 'Pune']\n",
      " [4.659524579150549 4.955482330579982 9.15781016725106 'Bangalore']\n",
      " [9.263764488604014 7.422734558037984 0.6466596914069356 'Bangalore']\n",
      " [5.811022299961174 4.669122980449525 1.6383085699988509 'New Delhi']\n",
      " [2.5907793723836314 5.95481644533272 5.678677096628382 'Bangalore']\n",
      " [9.643748406143398 0.5044333537530843 8.982338348229504 'Pune']\n",
      " [7.854896071287647 6.573817604317318 5.191491494743151 'New Delhi']\n",
      " [5.75115206396864 0.4122058812063878 7.98428992043935 'Bangalore']\n",
      " [9.098048627700162 4.300392147715027 1.3386643876186932 'Pune']\n",
      " [9.547273209388 3.6773611371840618 1.4782379413073476 'Bangalore']\n",
      " [0.5007821416192437 3.947270537698331 5.773424494810188 'Pune']\n",
      " [8.80904291559888 3.3253141895869 1.85921078112679 'Bangalore']\n",
      " [4.053247725915199 4.520186570856756 1.882218391130085 'Bangalore']\n",
      " [4.087072012054169 1.2847287888677283 2.686424421651669 'Pune']\n",
      " [3.946770352222457 0.6825086428608063 7.793751611534613 'Pune']\n",
      " [0.2063846694265225 8.447902070180485 5.228500940569702 'New Delhi']\n",
      " [3.496168668584941 8.459383571582165 4.428988285407908 'New Delhi']\n",
      " [0.7856049988291425 9.265457848127514 3.4700213929744783 'Bangalore']\n",
      " [8.91614007042134 4.560059593969377 3.9819492432526022 'Pune']\n",
      " [4.118646323840594 6.958711945848779 1.0394207622348184 'New Delhi']\n",
      " [6.695045286387915 0.127315864452443 2.22800878246074 'Bangalore']\n",
      " [3.048884016200514 2.9172228436198075 6.115603693931888 'New Delhi']\n",
      " [1.8732595808953945 0.945899000683057 8.3156947436629 'New Delhi']\n",
      " [0.8416219903359334 3.8786739573900064 4.001599299531468 'Bangalore']\n",
      " [5.48335380687826 9.717403439735522 4.682241095233789 'Pune']\n",
      " [7.529850144837892 9.657101587869498 4.66952283819733 'New Delhi']\n",
      " [6.998578977802112 4.969829851580959 2.4425167634519385 'Bangalore']\n",
      " [5.203863532501041 2.4884103393374035 3.9453506708179056 'New Delhi']\n",
      " [0.8681495678894724 6.889597914359547 3.7639873320576624 'New Delhi']\n",
      " [3.641508152163349 3.653309787904905 3.885413250415687 'Bangalore']\n",
      " [4.995231667877702 8.996389517584515 3.298456257787107 'Bangalore']\n",
      " [0.280313384927201 5.703895717664192 4.195304514294369 'Pune']]\n"
     ]
    }
   ],
   "source": [
    "dataset = pd.read_csv('Students.csv')\n",
    "\n",
    "X = dataset.iloc[:, :-1].values\n",
    "y = dataset.iloc[:, -1].values\n",
    "print(X)"
   ]
  },
  {
   "cell_type": "code",
   "execution_count": 7,
   "id": "5cc5b8a4",
   "metadata": {},
   "outputs": [
    {
     "name": "stdout",
     "output_type": "stream",
     "text": [
      "[43.00710125 33.70917424 35.55104683 34.22767125 43.23224794 42.51718031\n",
      " 69.00281482 42.26771503 56.5390444  64.05743303 57.26412675 50.37369746\n",
      " 63.67004161 64.50380906 17.33579665 51.32414879 52.84120128 67.65734419\n",
      " 57.60430783 65.23070231 61.64137575 44.80041472 47.875295   57.50411153\n",
      " 54.46408541 38.534402   56.9282326  61.71396973 31.62460953 44.31192743\n",
      " 38.99942172 32.02322113 35.21158446 39.06026572 44.82027553 35.60377826\n",
      " 61.80859722 43.57615894 44.41058543 37.5668897  42.70089673 25.94958165\n",
      " 57.63981076 72.2697406  53.83966974 42.24676461 44.63390997 33.80622701\n",
      " 49.4313147  26.71716726]\n"
     ]
    }
   ],
   "source": [
    "print(y)"
   ]
  },
  {
   "cell_type": "markdown",
   "id": "8af8c373",
   "metadata": {},
   "source": [
    "# Encoding the categorical data"
   ]
  },
  {
   "cell_type": "code",
   "execution_count": 8,
   "id": "46f2b130",
   "metadata": {},
   "outputs": [
    {
     "name": "stdout",
     "output_type": "stream",
     "text": [
      "ColumnTransformer(remainder='passthrough',\n",
      "                  transformers=[('encoder', OneHotEncoder(), [3])])\n"
     ]
    }
   ],
   "source": [
    "from sklearn.compose import ColumnTransformer\n",
    "from sklearn.preprocessing import OneHotEncoder\n",
    "ct = ColumnTransformer(transformers=[('encoder', OneHotEncoder(), [3])],  remainder='passthrough')\n",
    "print(ct)\n",
    "\n",
    "X = np.array(ct.fit_transform(X))"
   ]
  },
  {
   "cell_type": "code",
   "execution_count": 9,
   "id": "69469406",
   "metadata": {},
   "outputs": [
    {
     "name": "stdout",
     "output_type": "stream",
     "text": [
      "[[0.0 1.0 0.0 2.161058784766259 7.918698547228173 5.462385633638075]\n",
      " [0.0 1.0 0.0 2.158807388664025 0.7221399225381375 7.855455209448716]\n",
      " [0.0 0.0 1.0 2.1264870502255957 0.5865806923876571 8.998021789917015]\n",
      " [0.0 1.0 0.0 0.5271267776251687 2.2025167140403914 9.443748027419748]\n",
      " [1.0 0.0 0.0 7.113368581267504 1.0582243289766249 2.0369054122351877]\n",
      " [0.0 0.0 1.0 6.940097418083119 4.600861683299918 1.9961935391633967]\n",
      " [0.0 0.0 1.0 7.814017905961002 8.52965812205327 9.705109154835482]\n",
      " [0.0 1.0 0.0 1.6754380849979431 3.462071812828068 7.14454749860522]\n",
      " [0.0 1.0 0.0 4.883797719250627 8.731913289209986 9.284375518909878]\n",
      " [0.0 0.0 1.0 9.50243876574088 7.190438863289935 3.04014990582977]\n",
      " [1.0 0.0 0.0 5.372371059533836 9.146591263877369 0.3798372770208535]\n",
      " [0.0 1.0 0.0 5.016270516137874 2.3832923277039098 7.67747506876416]\n",
      " [0.0 1.0 0.0 2.445017076555347 7.33616424011686 9.725084334411092]\n",
      " [1.0 0.0 0.0 5.806738370795172 7.536132773937631 7.60896257796413]\n",
      " [1.0 0.0 0.0 0.3420210980365001 3.6008140679833445 0.2956352739584655]\n",
      " [0.0 1.0 0.0 7.135329599687235 5.281361928309007 5.3688215398474295]\n",
      " [0.0 0.0 1.0 4.968040375154285 9.814076434006209 0.6482899906974038]\n",
      " [0.0 1.0 0.0 9.9934132674433 0.1769469963371162 8.908210490472486]\n",
      " [0.0 0.0 1.0 4.442397398051484 7.690024102348723 9.21022023796746]\n",
      " [1.0 0.0 0.0 4.659524579150549 4.955482330579982 9.15781016725106]\n",
      " [1.0 0.0 0.0 9.263764488604014 7.422734558037984 0.6466596914069356]\n",
      " [0.0 1.0 0.0 5.811022299961174 4.669122980449525 1.6383085699988509]\n",
      " [1.0 0.0 0.0 2.5907793723836314 5.95481644533272 5.678677096628382]\n",
      " [0.0 0.0 1.0 9.643748406143398 0.5044333537530843 8.982338348229504]\n",
      " [0.0 1.0 0.0 7.854896071287647 6.573817604317318 5.191491494743151]\n",
      " [1.0 0.0 0.0 5.75115206396864 0.4122058812063878 7.98428992043935]\n",
      " [0.0 0.0 1.0 9.098048627700162 4.300392147715027 1.3386643876186932]\n",
      " [1.0 0.0 0.0 9.547273209388 3.6773611371840618 1.4782379413073476]\n",
      " [0.0 0.0 1.0 0.5007821416192437 3.947270537698331 5.773424494810188]\n",
      " [1.0 0.0 0.0 8.80904291559888 3.3253141895869 1.85921078112679]\n",
      " [1.0 0.0 0.0 4.053247725915199 4.520186570856756 1.882218391130085]\n",
      " [0.0 0.0 1.0 4.087072012054169 1.2847287888677283 2.686424421651669]\n",
      " [0.0 0.0 1.0 3.946770352222457 0.6825086428608063 7.793751611534613]\n",
      " [0.0 1.0 0.0 0.2063846694265225 8.447902070180485 5.228500940569702]\n",
      " [0.0 1.0 0.0 3.496168668584941 8.459383571582165 4.428988285407908]\n",
      " [1.0 0.0 0.0 0.7856049988291425 9.265457848127514 3.4700213929744783]\n",
      " [0.0 0.0 1.0 8.91614007042134 4.560059593969377 3.9819492432526022]\n",
      " [0.0 1.0 0.0 4.118646323840594 6.958711945848779 1.0394207622348184]\n",
      " [1.0 0.0 0.0 6.695045286387915 0.127315864452443 2.22800878246074]\n",
      " [0.0 1.0 0.0 3.048884016200514 2.9172228436198075 6.115603693931888]\n",
      " [0.0 1.0 0.0 1.8732595808953945 0.945899000683057 8.3156947436629]\n",
      " [1.0 0.0 0.0 0.8416219903359334 3.8786739573900064 4.001599299531468]\n",
      " [0.0 0.0 1.0 5.48335380687826 9.717403439735522 4.682241095233789]\n",
      " [0.0 1.0 0.0 7.529850144837892 9.657101587869498 4.66952283819733]\n",
      " [1.0 0.0 0.0 6.998578977802112 4.969829851580959 2.4425167634519385]\n",
      " [0.0 1.0 0.0 5.203863532501041 2.4884103393374035 3.9453506708179056]\n",
      " [0.0 1.0 0.0 0.8681495678894724 6.889597914359547 3.7639873320576624]\n",
      " [1.0 0.0 0.0 3.641508152163349 3.653309787904905 3.885413250415687]\n",
      " [1.0 0.0 0.0 4.995231667877702 8.996389517584515 3.298456257787107]\n",
      " [0.0 0.0 1.0 0.280313384927201 5.703895717664192 4.195304514294369]]\n"
     ]
    }
   ],
   "source": [
    "print(X)"
   ]
  },
  {
   "cell_type": "markdown",
   "id": "e99ec26d",
   "metadata": {},
   "source": [
    "# Splitting the  dataset into the training set and Test set"
   ]
  },
  {
   "cell_type": "code",
   "execution_count": 10,
   "id": "b00be08e",
   "metadata": {},
   "outputs": [
    {
     "data": {
      "text/plain": [
       "array([31.62460953, 50.37369746, 57.26412675, 25.94958165, 35.55104683,\n",
       "       61.71396973, 44.41058543, 32.02322113, 47.875295  , 43.23224794])"
      ]
     },
     "execution_count": 10,
     "metadata": {},
     "output_type": "execute_result"
    }
   ],
   "source": [
    "from sklearn.model_selection import train_test_split\n",
    "X_train, X_test, y_train , y_test = train_test_split(X, y, test_size = 0.2, random_state = 0)\n",
    "y_test"
   ]
  },
  {
   "cell_type": "markdown",
   "id": "c7eea8e4",
   "metadata": {},
   "source": [
    "# Training the multiple linear Regression model on the Training set"
   ]
  },
  {
   "cell_type": "code",
   "execution_count": 11,
   "id": "19d4e560",
   "metadata": {},
   "outputs": [
    {
     "data": {
      "text/plain": [
       "LinearRegression()"
      ]
     },
     "execution_count": 11,
     "metadata": {},
     "output_type": "execute_result"
    }
   ],
   "source": [
    "from sklearn.linear_model import LinearRegression\n",
    "regressor = LinearRegression()\n",
    "regressor.fit(X_train, y_train)"
   ]
  },
  {
   "cell_type": "markdown",
   "id": "2965f9ad",
   "metadata": {},
   "source": [
    "# Predicting the Test set results"
   ]
  },
  {
   "cell_type": "code",
   "execution_count": 12,
   "id": "49e294e2",
   "metadata": {},
   "outputs": [
    {
     "name": "stdout",
     "output_type": "stream",
     "text": [
      "\n",
      "\n",
      "\n",
      "Predicted  Actual\n",
      "[[29.67 31.62]\n",
      " [48.41 50.37]\n",
      " [48.75 57.26]\n",
      " [28.37 25.95]\n",
      " [34.05 35.55]\n",
      " [53.17 61.71]\n",
      " [36.87 44.41]\n",
      " [30.21 32.02]\n",
      " [42.26 47.88]\n",
      " [40.01 43.23]]\n"
     ]
    }
   ],
   "source": [
    "y_pred = regressor.predict(X_test)\n",
    "\n",
    "np.set_printoptions(precision=2)\n",
    "print(\"\\n\\n\\nPredicted  Actual\")\n",
    "print(np.concatenate((y_pred.reshape(len(y_pred),1), y_test.reshape(len(y_test),1)),1))"
   ]
  },
  {
   "cell_type": "code",
   "execution_count": 14,
   "id": "0655ab1a",
   "metadata": {},
   "outputs": [
    {
     "name": "stdout",
     "output_type": "stream",
     "text": [
      "[[0.0 0.0 1.0 0.5007821416192437 3.947270537698331 5.773424494810188\n",
      "  29.669239044233198 31.624609527076416]\n",
      " [0.0 1.0 0.0 5.016270516137874 2.3832923277039098 7.67747506876416\n",
      "  48.408254019010776 50.37369745596678]\n",
      " [1.0 0.0 0.0 5.372371059533836 9.146591263877369 0.3798372770208535\n",
      "  48.74802721037123 57.26412675018624]\n",
      " [1.0 0.0 0.0 0.8416219903359334 3.8786739573900064 4.001599299531468\n",
      "  28.365372300913187 25.949581646169467]\n",
      " [0.0 0.0 1.0 2.1264870502255957 0.5865806923876571 8.998021789917015\n",
      "  34.04903815611868 35.55104683405658]\n",
      " [1.0 0.0 0.0 9.547273209388 3.6773611371840618 1.4782379413073476\n",
      "  53.16580184261489 61.71396972975572]\n",
      " [1.0 0.0 0.0 6.695045286387915 0.127315864452443 2.22800878246074\n",
      "  36.86545374789258 44.41058543240307]\n",
      " [0.0 0.0 1.0 4.087072012054169 1.2847287888677283 2.686424421651669\n",
      "  30.21237636978669 32.02322113099186]\n",
      " [1.0 0.0 0.0 2.5907793723836314 5.95481644533272 5.678677096628382\n",
      "  42.257220720928466 47.87529499604547]\n",
      " [1.0 0.0 0.0 7.113368581267504 1.0582243289766249 2.0369054122351877\n",
      "  40.01036046831476 43.23224794016262]]\n"
     ]
    }
   ],
   "source": [
    "np.set_printoptions(precision=2)\n",
    "print(np.concatenate((X_test ,y_pred.reshape(len(y_pred),1) ,y_test.reshape(len(y_test),1)),1)) "
   ]
  },
  {
   "cell_type": "code",
   "execution_count": 15,
   "id": "32e98a0f",
   "metadata": {},
   "outputs": [
    {
     "data": {
      "text/plain": [
       "10"
      ]
     },
     "execution_count": 15,
     "metadata": {},
     "output_type": "execute_result"
    }
   ],
   "source": [
    "len(y_pred)"
   ]
  },
  {
   "cell_type": "code",
   "execution_count": 17,
   "id": "f2675377",
   "metadata": {},
   "outputs": [
    {
     "data": {
      "text/plain": [
       "array([31.62, 50.37, 57.26, 25.95, 35.55, 61.71, 44.41, 32.02, 47.88,\n",
       "       43.23])"
      ]
     },
     "execution_count": 17,
     "metadata": {},
     "output_type": "execute_result"
    }
   ],
   "source": [
    "y_test"
   ]
  },
  {
   "cell_type": "code",
   "execution_count": 18,
   "id": "3431e170",
   "metadata": {},
   "outputs": [
    {
     "data": {
      "text/plain": [
       "array([29.67, 48.41, 48.75, 28.37, 34.05, 53.17, 36.87, 30.21, 42.26,\n",
       "       40.01])"
      ]
     },
     "execution_count": 18,
     "metadata": {},
     "output_type": "execute_result"
    }
   ],
   "source": [
    "y_pred"
   ]
  },
  {
   "cell_type": "code",
   "execution_count": null,
   "id": "b4e9ce54",
   "metadata": {},
   "outputs": [],
   "source": []
  }
 ],
 "metadata": {
  "kernelspec": {
   "display_name": "Python 3 (ipykernel)",
   "language": "python",
   "name": "python3"
  },
  "language_info": {
   "codemirror_mode": {
    "name": "ipython",
    "version": 3
   },
   "file_extension": ".py",
   "mimetype": "text/x-python",
   "name": "python",
   "nbconvert_exporter": "python",
   "pygments_lexer": "ipython3",
   "version": "3.9.7"
  }
 },
 "nbformat": 4,
 "nbformat_minor": 5
}
